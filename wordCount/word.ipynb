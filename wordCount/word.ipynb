{
 "metadata": {
  "language_info": {
   "codemirror_mode": {
    "name": "ipython",
    "version": 3
   },
   "file_extension": ".py",
   "mimetype": "text/x-python",
   "name": "python",
   "nbconvert_exporter": "python",
   "pygments_lexer": "ipython3",
   "version": "3.7.8"
  },
  "orig_nbformat": 2,
  "kernelspec": {
   "name": "python378jvsc74a57bd02bd04dc09fab68ca3ef149792dfe3505936e6301cdd003bc123cc71dc1164e1a",
   "display_name": "Python 3.7.8rc1 64-bit"
  },
  "metadata": {
   "interpreter": {
    "hash": "2bd04dc09fab68ca3ef149792dfe3505936e6301cdd003bc123cc71dc1164e1a"
   }
  }
 },
 "nbformat": 4,
 "nbformat_minor": 2,
 "cells": [
  {
   "cell_type": "code",
   "execution_count": 41,
   "metadata": {},
   "outputs": [],
   "source": [
    "import glob         \n",
    "import pandas as pd "
   ]
  },
  {
   "cell_type": "code",
   "execution_count": 42,
   "metadata": {},
   "outputs": [],
   "source": [
    "def extract_from_txt(file_to_process): #extract txt file\n",
    "\n",
    "    with open(file_to_process, 'r') as file:\n",
    "        data = file.read()\n",
    "    return data"
   ]
  },
  {
   "cell_type": "code",
   "execution_count": 43,
   "metadata": {},
   "outputs": [],
   "source": [
    "def extract():\n",
    "\n",
    "    extracted_data = extract_from_txt('data.txt')\n",
    "    return extracted_data"
   ]
  },
  {
   "cell_type": "code",
   "execution_count": 44,
   "metadata": {},
   "outputs": [],
   "source": [
    "def transform(data): #transform data\n",
    "\n",
    "    li = data.split(' ')\n",
    "    dicti = set(li)\n",
    "\n",
    "    df = pd.DataFrame(0, index=dicti, columns=['Count'])\n",
    "\n",
    "    for word in dicti:\n",
    "        for i in li:\n",
    "            if word == i:\n",
    "                df.loc[word]['Count'] += 1\n",
    "\n",
    "\n",
    "    return df"
   ]
  },
  {
   "cell_type": "code",
   "execution_count": 45,
   "metadata": {},
   "outputs": [],
   "source": [
    "def load(targetfile,data_to_load): #load\n",
    "    data_to_load.to_csv(targetfile)  "
   ]
  },
  {
   "cell_type": "code",
   "execution_count": 46,
   "metadata": {},
   "outputs": [
    {
     "output_type": "execute_result",
     "data": {
      "text/plain": [
       "'cow is domestic animal. domestic animal are pets. cow is domestic animal like pets. cow is holy animal. cow gives milk. milk is healthy.'"
      ]
     },
     "metadata": {},
     "execution_count": 46
    }
   ],
   "source": [
    "#extraction process started\n",
    "extracted_data = extract()\n",
    "\n",
    "extracted_data"
   ]
  },
  {
   "cell_type": "code",
   "execution_count": 47,
   "metadata": {},
   "outputs": [
    {
     "output_type": "execute_result",
     "data": {
      "text/plain": [
       "          Count\n",
       "pets.         2\n",
       "cow           4\n",
       "is            4\n",
       "animal        2\n",
       "milk.         1\n",
       "healthy.      1\n",
       "are           1\n",
       "holy          1\n",
       "domestic      3\n",
       "gives         1\n",
       "animal.       2\n",
       "milk          1\n",
       "like          1"
      ],
      "text/html": "<div>\n<style scoped>\n    .dataframe tbody tr th:only-of-type {\n        vertical-align: middle;\n    }\n\n    .dataframe tbody tr th {\n        vertical-align: top;\n    }\n\n    .dataframe thead th {\n        text-align: right;\n    }\n</style>\n<table border=\"1\" class=\"dataframe\">\n  <thead>\n    <tr style=\"text-align: right;\">\n      <th></th>\n      <th>Count</th>\n    </tr>\n  </thead>\n  <tbody>\n    <tr>\n      <th>pets.</th>\n      <td>2</td>\n    </tr>\n    <tr>\n      <th>cow</th>\n      <td>4</td>\n    </tr>\n    <tr>\n      <th>is</th>\n      <td>4</td>\n    </tr>\n    <tr>\n      <th>animal</th>\n      <td>2</td>\n    </tr>\n    <tr>\n      <th>milk.</th>\n      <td>1</td>\n    </tr>\n    <tr>\n      <th>healthy.</th>\n      <td>1</td>\n    </tr>\n    <tr>\n      <th>are</th>\n      <td>1</td>\n    </tr>\n    <tr>\n      <th>holy</th>\n      <td>1</td>\n    </tr>\n    <tr>\n      <th>domestic</th>\n      <td>3</td>\n    </tr>\n    <tr>\n      <th>gives</th>\n      <td>1</td>\n    </tr>\n    <tr>\n      <th>animal.</th>\n      <td>2</td>\n    </tr>\n    <tr>\n      <th>milk</th>\n      <td>1</td>\n    </tr>\n    <tr>\n      <th>like</th>\n      <td>1</td>\n    </tr>\n  </tbody>\n</table>\n</div>"
     },
     "metadata": {},
     "execution_count": 47
    }
   ],
   "source": [
    "#transformation process started\n",
    "transformed_data = transform(extracted_data)\n",
    "\n",
    "transformed_data "
   ]
  },
  {
   "cell_type": "code",
   "execution_count": 48,
   "metadata": {},
   "outputs": [],
   "source": [
    "#load process started\n",
    "load('load.csv',transformed_data)\n"
   ]
  }
 ]
}