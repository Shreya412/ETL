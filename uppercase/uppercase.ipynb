{
 "metadata": {
  "language_info": {
   "codemirror_mode": {
    "name": "ipython",
    "version": 3
   },
   "file_extension": ".py",
   "mimetype": "text/x-python",
   "name": "python",
   "nbconvert_exporter": "python",
   "pygments_lexer": "ipython3",
   "version": "3.7.8"
  },
  "orig_nbformat": 2,
  "kernelspec": {
   "name": "python378jvsc74a57bd02bd04dc09fab68ca3ef149792dfe3505936e6301cdd003bc123cc71dc1164e1a",
   "display_name": "Python 3.7.8rc1 64-bit"
  },
  "metadata": {
   "interpreter": {
    "hash": "2bd04dc09fab68ca3ef149792dfe3505936e6301cdd003bc123cc71dc1164e1a"
   }
  }
 },
 "nbformat": 4,
 "nbformat_minor": 2,
 "cells": [
  {
   "cell_type": "code",
   "execution_count": 17,
   "metadata": {},
   "outputs": [],
   "source": [
    "import glob         \n",
    "import pandas as pd  "
   ]
  },
  {
   "cell_type": "code",
   "execution_count": 18,
   "metadata": {},
   "outputs": [],
   "source": [
    "def extract_from_csv(file_to_process): #for csv\n",
    "    dataframe = pd.read_csv(file_to_process)\n",
    "    return dataframe"
   ]
  },
  {
   "cell_type": "code",
   "execution_count": 19,
   "metadata": {},
   "outputs": [],
   "source": [
    "def extract_from_txt(file_to_process): #for txt\n",
    "    dataframe=pd.read_csv(file_to_process, sep=\" \")\n",
    "    return dataframe\n",
    "\n",
    "#same way, SQL, JSON files can also be extracted"
   ]
  },
  {
   "cell_type": "code",
   "execution_count": 20,
   "metadata": {},
   "outputs": [],
   "source": [
    "def extract():\n",
    "    extracted_data = pd.DataFrame(columns=['foodID', 'item']) # create an empty data frame to hold extracted data\n",
    "    \n",
    "    #process all csv files\n",
    "    for csvfile in glob.glob(\"*.csv\"):\n",
    "        extracted_data = extracted_data.append(extract_from_csv(csvfile), ignore_index=True)\n",
    "        \n",
    "    #process all txt files\n",
    "    for txtfile in glob.glob(\"*.txt\"):\n",
    "        extracted_data = extracted_data.append(extract_from_txt(txtfile), ignore_index=True)\n",
    "        \n",
    "    return extracted_data"
   ]
  },
  {
   "cell_type": "code",
   "execution_count": 21,
   "metadata": {},
   "outputs": [],
   "source": [
    "def transform(data):\n",
    "        data['item'] = data['item'].apply(lambda x: x.upper())\n",
    "        return data"
   ]
  },
  {
   "cell_type": "code",
   "execution_count": 22,
   "metadata": {},
   "outputs": [],
   "source": [
    "def load(targetfile,data_to_load):\n",
    "    data_to_load.to_csv(targetfile)  "
   ]
  },
  {
   "cell_type": "code",
   "execution_count": 23,
   "metadata": {},
   "outputs": [
    {
     "output_type": "execute_result",
     "data": {
      "text/plain": [
       "   foodID      item\n",
       "0       1     pizza\n",
       "1       2  sandwich\n",
       "2       3   noodles\n",
       "3       1     tacos\n",
       "4       2    burger\n",
       "5       3     pasta\n",
       "6       1     pizza\n",
       "7       2  sandwich\n",
       "8       3   noodles\n",
       "9       1     pizza\n",
       "10      2  sandwich\n",
       "11      3   noodles\n",
       "12      1     tacos\n",
       "13      2    burger\n",
       "14      3     pasta"
      ],
      "text/html": "<div>\n<style scoped>\n    .dataframe tbody tr th:only-of-type {\n        vertical-align: middle;\n    }\n\n    .dataframe tbody tr th {\n        vertical-align: top;\n    }\n\n    .dataframe thead th {\n        text-align: right;\n    }\n</style>\n<table border=\"1\" class=\"dataframe\">\n  <thead>\n    <tr style=\"text-align: right;\">\n      <th></th>\n      <th>foodID</th>\n      <th>item</th>\n    </tr>\n  </thead>\n  <tbody>\n    <tr>\n      <th>0</th>\n      <td>1</td>\n      <td>pizza</td>\n    </tr>\n    <tr>\n      <th>1</th>\n      <td>2</td>\n      <td>sandwich</td>\n    </tr>\n    <tr>\n      <th>2</th>\n      <td>3</td>\n      <td>noodles</td>\n    </tr>\n    <tr>\n      <th>3</th>\n      <td>1</td>\n      <td>tacos</td>\n    </tr>\n    <tr>\n      <th>4</th>\n      <td>2</td>\n      <td>burger</td>\n    </tr>\n    <tr>\n      <th>5</th>\n      <td>3</td>\n      <td>pasta</td>\n    </tr>\n    <tr>\n      <th>6</th>\n      <td>1</td>\n      <td>pizza</td>\n    </tr>\n    <tr>\n      <th>7</th>\n      <td>2</td>\n      <td>sandwich</td>\n    </tr>\n    <tr>\n      <th>8</th>\n      <td>3</td>\n      <td>noodles</td>\n    </tr>\n    <tr>\n      <th>9</th>\n      <td>1</td>\n      <td>pizza</td>\n    </tr>\n    <tr>\n      <th>10</th>\n      <td>2</td>\n      <td>sandwich</td>\n    </tr>\n    <tr>\n      <th>11</th>\n      <td>3</td>\n      <td>noodles</td>\n    </tr>\n    <tr>\n      <th>12</th>\n      <td>1</td>\n      <td>tacos</td>\n    </tr>\n    <tr>\n      <th>13</th>\n      <td>2</td>\n      <td>burger</td>\n    </tr>\n    <tr>\n      <th>14</th>\n      <td>3</td>\n      <td>pasta</td>\n    </tr>\n  </tbody>\n</table>\n</div>"
     },
     "metadata": {},
     "execution_count": 23
    }
   ],
   "source": [
    "# \"Extract phase Started\"\n",
    "extracted_data = extract()\n",
    "# \"Extract phase Ended\"\n",
    "extracted_data"
   ]
  },
  {
   "cell_type": "code",
   "execution_count": 24,
   "metadata": {},
   "outputs": [
    {
     "output_type": "execute_result",
     "data": {
      "text/plain": [
       "   foodID      item\n",
       "0       1     PIZZA\n",
       "1       2  SANDWICH\n",
       "2       3   NOODLES\n",
       "3       1     TACOS\n",
       "4       2    BURGER\n",
       "5       3     PASTA\n",
       "6       1     PIZZA\n",
       "7       2  SANDWICH\n",
       "8       3   NOODLES\n",
       "9       1     PIZZA\n",
       "10      2  SANDWICH\n",
       "11      3   NOODLES\n",
       "12      1     TACOS\n",
       "13      2    BURGER\n",
       "14      3     PASTA"
      ],
      "text/html": "<div>\n<style scoped>\n    .dataframe tbody tr th:only-of-type {\n        vertical-align: middle;\n    }\n\n    .dataframe tbody tr th {\n        vertical-align: top;\n    }\n\n    .dataframe thead th {\n        text-align: right;\n    }\n</style>\n<table border=\"1\" class=\"dataframe\">\n  <thead>\n    <tr style=\"text-align: right;\">\n      <th></th>\n      <th>foodID</th>\n      <th>item</th>\n    </tr>\n  </thead>\n  <tbody>\n    <tr>\n      <th>0</th>\n      <td>1</td>\n      <td>PIZZA</td>\n    </tr>\n    <tr>\n      <th>1</th>\n      <td>2</td>\n      <td>SANDWICH</td>\n    </tr>\n    <tr>\n      <th>2</th>\n      <td>3</td>\n      <td>NOODLES</td>\n    </tr>\n    <tr>\n      <th>3</th>\n      <td>1</td>\n      <td>TACOS</td>\n    </tr>\n    <tr>\n      <th>4</th>\n      <td>2</td>\n      <td>BURGER</td>\n    </tr>\n    <tr>\n      <th>5</th>\n      <td>3</td>\n      <td>PASTA</td>\n    </tr>\n    <tr>\n      <th>6</th>\n      <td>1</td>\n      <td>PIZZA</td>\n    </tr>\n    <tr>\n      <th>7</th>\n      <td>2</td>\n      <td>SANDWICH</td>\n    </tr>\n    <tr>\n      <th>8</th>\n      <td>3</td>\n      <td>NOODLES</td>\n    </tr>\n    <tr>\n      <th>9</th>\n      <td>1</td>\n      <td>PIZZA</td>\n    </tr>\n    <tr>\n      <th>10</th>\n      <td>2</td>\n      <td>SANDWICH</td>\n    </tr>\n    <tr>\n      <th>11</th>\n      <td>3</td>\n      <td>NOODLES</td>\n    </tr>\n    <tr>\n      <th>12</th>\n      <td>1</td>\n      <td>TACOS</td>\n    </tr>\n    <tr>\n      <th>13</th>\n      <td>2</td>\n      <td>BURGER</td>\n    </tr>\n    <tr>\n      <th>14</th>\n      <td>3</td>\n      <td>PASTA</td>\n    </tr>\n  </tbody>\n</table>\n</div>"
     },
     "metadata": {},
     "execution_count": 24
    }
   ],
   "source": [
    "# \"Transform phase Started\"\n",
    "transformed_data = transform(extracted_data)\n",
    "# \"Transform phase Ended\"\n",
    "transformed_data "
   ]
  },
  {
   "cell_type": "code",
   "execution_count": 25,
   "metadata": {},
   "outputs": [],
   "source": [
    "# \"Load phase Started\"\n",
    "load('load.csv',transformed_data)\n",
    "# \"Load phase Ended\""
   ]
  }
 ]
}